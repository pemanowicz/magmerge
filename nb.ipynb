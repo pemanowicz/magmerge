{
 "cells": [
  {
   "cell_type": "markdown",
   "id": "5eb03876",
   "metadata": {},
   "source": [
    "# Load & execute pipelines"
   ]
  },
  {
   "cell_type": "code",
   "execution_count": null,
   "id": "0dccd119",
   "metadata": {},
   "outputs": [],
   "source": [
    "from src.magmerge.pipelins import pipeline_Binning, pipeline_COVERAGE, pipeline_GTDBTK\n",
    "\n",
    "\n",
    "# Execute pipelines\n",
    "df_bin = pipeline_Binning(\"python_paths.csv\", print_paths =False)\n",
    "df_cov = pipeline_COVERAGE(\"python_paths.csv\", print_paths =False)\n",
    "df_gtdb = pipeline_GTDBTK(\"python_paths.csv\", print_paths =False)\n"
   ]
  },
  {
   "cell_type": "markdown",
   "id": "2ed01f03",
   "metadata": {},
   "source": [
    "# Merge & save df"
   ]
  },
  {
   "cell_type": "code",
   "execution_count": null,
   "id": "83e950c0",
   "metadata": {},
   "outputs": [],
   "source": [
    "from src.magmerge.merge_mag import prepare_mag_table\n",
    "\n",
    "df_mag = prepare_mag_table(df_gtdb, df_cov, df_bin)\n",
    "\n",
    "# Preview of the first few lines\n",
    "print(df_mag.head())\n",
    "\n",
    "# Writing to a file\n",
    "df_mag.to_csv(\"MAG_table.csv\", sep=\"\\t\", index=False)"
   ]
  }
 ],
 "metadata": {
  "kernelspec": {
   "display_name": ".venv",
   "language": "python",
   "name": "python3"
  },
  "language_info": {
   "codemirror_mode": {
    "name": "ipython",
    "version": 3
   },
   "file_extension": ".py",
   "mimetype": "text/x-python",
   "name": "python",
   "nbconvert_exporter": "python",
   "pygments_lexer": "ipython3",
   "version": "3.12.0"
  }
 },
 "nbformat": 4,
 "nbformat_minor": 5
}
