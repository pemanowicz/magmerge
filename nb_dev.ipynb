{
 "cells": [
  {
   "cell_type": "markdown",
   "id": "994f7429",
   "metadata": {},
   "source": [
    "# Black"
   ]
  },
  {
   "cell_type": "code",
   "execution_count": null,
   "id": "9df0c2f3",
   "metadata": {},
   "outputs": [],
   "source": [
    "!black --check --diff src/magmerge"
   ]
  },
  {
   "cell_type": "code",
   "execution_count": null,
   "id": "e8daa33f",
   "metadata": {},
   "outputs": [],
   "source": [
    "!black src/magmerge"
   ]
  },
  {
   "cell_type": "markdown",
   "id": "f5a0856c",
   "metadata": {},
   "source": [
    "# Tests"
   ]
  },
  {
   "cell_type": "code",
   "execution_count": null,
   "id": "106a4252",
   "metadata": {},
   "outputs": [],
   "source": [
    "!PYTHONPATH=src poetry run pytest -q tests/"
   ]
  },
  {
   "cell_type": "code",
   "execution_count": null,
   "id": "f89556a8",
   "metadata": {},
   "outputs": [],
   "source": [
    "!pytest tests/ --cov=magmerge --cov-report=term-missing -q"
   ]
  },
  {
   "cell_type": "markdown",
   "id": "ab48c17f",
   "metadata": {},
   "source": [
    "# Test script sra_fetch.sh"
   ]
  },
  {
   "cell_type": "code",
   "execution_count": null,
   "id": "1bd41872",
   "metadata": {},
   "outputs": [],
   "source": [
    "from pathlib import Path\n",
    "import pandas as pd\n",
    "\n",
    "# Make output_test/ if not exist\n",
    "Path(\"output_test\").mkdir(parents=True, exist_ok=True)"
   ]
  },
  {
   "cell_type": "code",
   "execution_count": null,
   "id": "237f688b",
   "metadata": {},
   "outputs": [],
   "source": [
    "!chmod +x scripts/sra_fetch.sh\n",
    "!TEST_SPOTS=2 THREADS=4 bash scripts/sra_fetch.sh sra_ids.txt output"
   ]
  }
 ],
 "metadata": {
  "kernelspec": {
   "display_name": ".venv",
   "language": "python",
   "name": "python3"
  },
  "language_info": {
   "codemirror_mode": {
    "name": "ipython",
    "version": 3
   },
   "file_extension": ".py",
   "mimetype": "text/x-python",
   "name": "python",
   "nbconvert_exporter": "python",
   "pygments_lexer": "ipython3",
   "version": "3.12.0"
  }
 },
 "nbformat": 4,
 "nbformat_minor": 5
}
